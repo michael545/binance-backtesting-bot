{
 "cells": [
  {
   "cell_type": "code",
   "execution_count": null,
   "id": "e8ce39f2",
   "metadata": {},
   "outputs": [],
   "source": [
    "import api_keys \n",
    "import pandas as pd\n",
    "import sqlalchemy \n",
    "from binance.client import Clinet \n",
    "from binance import BinanceSocketManager\n",
    "client  Clin\n"
   ]
  }
 ],
 "metadata": {
  "kernelspec": {
   "display_name": "Python 3 (ipykernel)",
   "language": "python",
   "name": "python3"
  },
  "language_info": {
   "codemirror_mode": {
    "name": "ipython",
    "version": 3
   },
   "file_extension": ".py",
   "mimetype": "text/x-python",
   "name": "python",
   "nbconvert_exporter": "python",
   "pygments_lexer": "ipython3",
   "version": "3.9.12"
  }
 },
 "nbformat": 4,
 "nbformat_minor": 5
}
