{
 "cells": [
  {
   "cell_type": "code",
   "execution_count": 26,
   "id": "d46912cb",
   "metadata": {},
   "outputs": [],
   "source": [
    "import pandas as pd\n",
    "import sqlalchemy\n",
    "from binance.client import Client\n",
    "from binance import BinanceSocketManager    "
   ]
  },
  {
   "cell_type": "code",
   "execution_count": 25,
   "id": "1d3b7f32",
   "metadata": {},
   "outputs": [],
   "source": [
    "%run ./keys.ipynb"
   ]
  },
  {
   "cell_type": "code",
   "execution_count": 22,
   "id": "e547d584",
   "metadata": {},
   "outputs": [],
   "source": [
    "client = Client(api_key, api_secret)"
   ]
  },
  {
   "cell_type": "code",
   "execution_count": 60,
   "id": "cdaf9d83",
   "metadata": {},
   "outputs": [],
   "source": [
    "bsm  = BinanceSocketManager(client)"
   ]
  },
  {
   "cell_type": "code",
   "execution_count": 61,
   "id": "42fe5b2d",
   "metadata": {},
   "outputs": [],
   "source": [
    "socket = bsm.trade_socket('BTCUSDT')"
   ]
  },
  {
   "cell_type": "code",
   "execution_count": 59,
   "id": "e6c83f2a",
   "metadata": {},
   "outputs": [],
   "source": [
    "engine = sqlalchemy.create_engine('sqlite:///BTCUSDTstream.db')"
   ]
  },
  {
   "cell_type": "code",
   "execution_count": 64,
   "id": "bdd0d408",
   "metadata": {},
   "outputs": [
    {
     "name": "stdout",
     "output_type": "stream",
     "text": [
      "    symbol                    time     price\n",
      "0  BTCUSDT 2023-07-06 18:00:51.059  30295.79\n"
     ]
    }
   ],
   "source": [
    "    \n",
    "await socket.__aenter__()\n",
    "msg = await socket.recv()\n",
    "frame = createdf(msg)\n",
    "frame.to_sql('BTCUSDT', engine, if_exists='append', index = False)\n",
    "print(frame)"
   ]
  },
  {
   "cell_type": "code",
   "execution_count": 62,
   "id": "6d3ad2ee",
   "metadata": {},
   "outputs": [],
   "source": [
    "def createdf(msg):\n",
    "    df = pd.DataFrame([msg])\n",
    "    df = df.loc[:,['s','E','p']]\n",
    "    df.columns = ['symbol','time','price']\n",
    "    df.price = df.price.astype(float)\n",
    "    df.time = pd.to_datetime(df.time, unit='ms')\n",
    "    return df"
   ]
  },
  {
   "cell_type": "code",
   "execution_count": 65,
   "id": "f1a3755c",
   "metadata": {},
   "outputs": [
    {
     "data": {
      "text/html": [
       "<div>\n",
       "<style scoped>\n",
       "    .dataframe tbody tr th:only-of-type {\n",
       "        vertical-align: middle;\n",
       "    }\n",
       "\n",
       "    .dataframe tbody tr th {\n",
       "        vertical-align: top;\n",
       "    }\n",
       "\n",
       "    .dataframe thead th {\n",
       "        text-align: right;\n",
       "    }\n",
       "</style>\n",
       "<table border=\"1\" class=\"dataframe\">\n",
       "  <thead>\n",
       "    <tr style=\"text-align: right;\">\n",
       "      <th></th>\n",
       "      <th>symbol</th>\n",
       "      <th>time</th>\n",
       "      <th>price</th>\n",
       "    </tr>\n",
       "  </thead>\n",
       "  <tbody>\n",
       "    <tr>\n",
       "      <th>0</th>\n",
       "      <td>BTCUSDT</td>\n",
       "      <td>2023-07-06 18:00:51.059</td>\n",
       "      <td>30295.79</td>\n",
       "    </tr>\n",
       "  </tbody>\n",
       "</table>\n",
       "</div>"
      ],
      "text/plain": [
       "    symbol                    time     price\n",
       "0  BTCUSDT 2023-07-06 18:00:51.059  30295.79"
      ]
     },
     "execution_count": 65,
     "metadata": {},
     "output_type": "execute_result"
    }
   ],
   "source": [
    "createdf(msg)"
   ]
  }
 ],
 "metadata": {
  "kernelspec": {
   "display_name": "Python 3 (ipykernel)",
   "language": "python",
   "name": "python3"
  },
  "language_info": {
   "codemirror_mode": {
    "name": "ipython",
    "version": 3
   },
   "file_extension": ".py",
   "mimetype": "text/x-python",
   "name": "python",
   "nbconvert_exporter": "python",
   "pygments_lexer": "ipython3",
   "version": "3.9.12"
  }
 },
 "nbformat": 4,
 "nbformat_minor": 5
}
