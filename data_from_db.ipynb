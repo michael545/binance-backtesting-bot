{
 "cells": [
  {
   "cell_type": "code",
   "execution_count": 23,
   "metadata": {},
   "outputs": [],
   "source": [
    "import sqlalchemy\n",
    "import pandas as pd\n",
    "from binance.client import Client"
   ]
  },
  {
   "cell_type": "code",
   "execution_count": 24,
   "metadata": {},
   "outputs": [],
   "source": [
    "%run ./keys.ipynb"
   ]
  },
  {
   "cell_type": "code",
   "execution_count": 25,
   "metadata": {},
   "outputs": [],
   "source": [
    "clinent = Client(api_key, api_secret)"
   ]
  },
  {
   "cell_type": "code",
   "execution_count": 26,
   "metadata": {},
   "outputs": [],
   "source": [
    "engine = sqlalchemy.create_engine('sqlite:///BTCUSDTstream.db')"
   ]
  },
  {
   "cell_type": "code",
   "execution_count": 27,
   "metadata": {},
   "outputs": [],
   "source": [
    "df = pd.read_sql('BTCUSDT', engine)"
   ]
  },
  {
   "cell_type": "code",
   "execution_count": 28,
   "metadata": {},
   "outputs": [],
   "source": [
    "df = pd.read_sql('BTCUSDT', engine)"
   ]
  },
  {
   "cell_type": "code",
   "execution_count": 29,
   "metadata": {},
   "outputs": [
    {
     "data": {
      "text/html": [
       "<div>\n",
       "<style scoped>\n",
       "    .dataframe tbody tr th:only-of-type {\n",
       "        vertical-align: middle;\n",
       "    }\n",
       "\n",
       "    .dataframe tbody tr th {\n",
       "        vertical-align: top;\n",
       "    }\n",
       "\n",
       "    .dataframe thead th {\n",
       "        text-align: right;\n",
       "    }\n",
       "</style>\n",
       "<table border=\"1\" class=\"dataframe\">\n",
       "  <thead>\n",
       "    <tr style=\"text-align: right;\">\n",
       "      <th></th>\n",
       "      <th>symbol</th>\n",
       "      <th>time</th>\n",
       "      <th>price</th>\n",
       "    </tr>\n",
       "  </thead>\n",
       "  <tbody>\n",
       "    <tr>\n",
       "      <th>0</th>\n",
       "      <td>BTCUSDT</td>\n",
       "      <td>2023-07-06 17:51:25.414</td>\n",
       "      <td>30262.90</td>\n",
       "    </tr>\n",
       "    <tr>\n",
       "      <th>1</th>\n",
       "      <td>BTCUSDT</td>\n",
       "      <td>2023-07-06 17:51:25.439</td>\n",
       "      <td>30262.89</td>\n",
       "    </tr>\n",
       "    <tr>\n",
       "      <th>2</th>\n",
       "      <td>BTCUSDT</td>\n",
       "      <td>2023-07-06 17:51:25.865</td>\n",
       "      <td>30262.89</td>\n",
       "    </tr>\n",
       "    <tr>\n",
       "      <th>3</th>\n",
       "      <td>BTCUSDT</td>\n",
       "      <td>2023-07-06 17:51:25.865</td>\n",
       "      <td>30262.89</td>\n",
       "    </tr>\n",
       "    <tr>\n",
       "      <th>4</th>\n",
       "      <td>BTCUSDT</td>\n",
       "      <td>2023-07-06 17:51:27.589</td>\n",
       "      <td>30262.89</td>\n",
       "    </tr>\n",
       "    <tr>\n",
       "      <th>...</th>\n",
       "      <td>...</td>\n",
       "      <td>...</td>\n",
       "      <td>...</td>\n",
       "    </tr>\n",
       "    <tr>\n",
       "      <th>86</th>\n",
       "      <td>BTCUSDT</td>\n",
       "      <td>2023-07-06 17:51:43.910</td>\n",
       "      <td>30262.89</td>\n",
       "    </tr>\n",
       "    <tr>\n",
       "      <th>87</th>\n",
       "      <td>BTCUSDT</td>\n",
       "      <td>2023-07-06 17:51:43.910</td>\n",
       "      <td>30262.89</td>\n",
       "    </tr>\n",
       "    <tr>\n",
       "      <th>88</th>\n",
       "      <td>BTCUSDT</td>\n",
       "      <td>2023-07-06 17:51:43.910</td>\n",
       "      <td>30262.89</td>\n",
       "    </tr>\n",
       "    <tr>\n",
       "      <th>89</th>\n",
       "      <td>BTCUSDT</td>\n",
       "      <td>2023-07-06 17:51:43.913</td>\n",
       "      <td>30262.89</td>\n",
       "    </tr>\n",
       "    <tr>\n",
       "      <th>90</th>\n",
       "      <td>BTCUSDT</td>\n",
       "      <td>2023-07-06 17:51:43.914</td>\n",
       "      <td>30262.89</td>\n",
       "    </tr>\n",
       "  </tbody>\n",
       "</table>\n",
       "<p>91 rows × 3 columns</p>\n",
       "</div>"
      ],
      "text/plain": [
       "     symbol                    time     price\n",
       "0   BTCUSDT 2023-07-06 17:51:25.414  30262.90\n",
       "1   BTCUSDT 2023-07-06 17:51:25.439  30262.89\n",
       "2   BTCUSDT 2023-07-06 17:51:25.865  30262.89\n",
       "3   BTCUSDT 2023-07-06 17:51:25.865  30262.89\n",
       "4   BTCUSDT 2023-07-06 17:51:27.589  30262.89\n",
       "..      ...                     ...       ...\n",
       "86  BTCUSDT 2023-07-06 17:51:43.910  30262.89\n",
       "87  BTCUSDT 2023-07-06 17:51:43.910  30262.89\n",
       "88  BTCUSDT 2023-07-06 17:51:43.910  30262.89\n",
       "89  BTCUSDT 2023-07-06 17:51:43.913  30262.89\n",
       "90  BTCUSDT 2023-07-06 17:51:43.914  30262.89\n",
       "\n",
       "[91 rows x 3 columns]"
      ]
     },
     "execution_count": 29,
     "metadata": {},
     "output_type": "execute_result"
    }
   ],
   "source": [
    "df"
   ]
  },
  {
   "cell_type": "code",
   "execution_count": null,
   "metadata": {},
   "outputs": [],
   "source": []
  }
 ],
 "metadata": {
  "kernelspec": {
   "display_name": "base",
   "language": "python",
   "name": "python3"
  },
  "language_info": {
   "codemirror_mode": {
    "name": "ipython",
    "version": 3
   },
   "file_extension": ".py",
   "mimetype": "text/x-python",
   "name": "python",
   "nbconvert_exporter": "python",
   "pygments_lexer": "ipython3",
   "version": "3.9.12"
  },
  "orig_nbformat": 4
 },
 "nbformat": 4,
 "nbformat_minor": 2
}
